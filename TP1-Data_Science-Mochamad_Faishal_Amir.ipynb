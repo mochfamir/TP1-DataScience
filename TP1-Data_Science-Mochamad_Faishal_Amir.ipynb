{
  "nbformat": 4,
  "nbformat_minor": 0,
  "metadata": {
    "colab": {
      "provenance": []
    },
    "kernelspec": {
      "name": "python3",
      "display_name": "Python 3"
    },
    "language_info": {
      "name": "python"
    }
  },
  "cells": [
    {
      "cell_type": "markdown",
      "source": [
        "##### import library pandas"
      ],
      "metadata": {
        "id": "2j6GdTNRe3uW"
      }
    },
    {
      "cell_type": "code",
      "source": [
        "import pandas as pd"
      ],
      "metadata": {
        "id": "pwTcRfYwBH3U"
      },
      "execution_count": 34,
      "outputs": []
    },
    {
      "cell_type": "markdown",
      "source": [
        "##### Baca file dan membuat dataframe"
      ],
      "metadata": {
        "id": "Db6nxSBRenTr"
      }
    },
    {
      "cell_type": "code",
      "source": [
        "data = pd.read_csv('data-karyawan.csv')"
      ],
      "metadata": {
        "id": "2UUZr6QYBKiJ"
      },
      "execution_count": 35,
      "outputs": []
    },
    {
      "cell_type": "markdown",
      "source": [
        "##### Membuat kolom jabatan"
      ],
      "metadata": {
        "id": "MOUQdmjDerQD"
      }
    },
    {
      "cell_type": "code",
      "source": [
        "data['Jabatan'] = ''"
      ],
      "metadata": {
        "id": "pS0kgZJrd6Cp"
      },
      "execution_count": 36,
      "outputs": []
    },
    {
      "cell_type": "markdown",
      "source": [
        "##### Fungsi untuk menentukan jabatan"
      ],
      "metadata": {
        "id": "nWY1TUMEfqon"
      }
    },
    {
      "cell_type": "code",
      "source": [
        "def jabatan(gaji):\n",
        "    if 8000000 <= gaji <= 9000000:\n",
        "        return 'Officer'\n",
        "    elif 10000000 <= gaji <= 11000000:\n",
        "        return 'Supervisor'\n",
        "    elif 12000000 <= gaji <= 14000000:\n",
        "        return 'Asisten Manajer'\n",
        "    elif gaji >= 15000000:\n",
        "        return 'Manager'\n"
      ],
      "metadata": {
        "id": "8FqYimrifnNB"
      },
      "execution_count": 37,
      "outputs": []
    },
    {
      "cell_type": "markdown",
      "source": [
        "##### Control flow assign jabatan"
      ],
      "metadata": {
        "id": "JkmoicZee8II"
      }
    },
    {
      "cell_type": "code",
      "source": [
        "for index, row in data.iterrows():\n",
        "    gaji = row['Gaji']\n",
        "    data.at[index, 'Jabatan'] = jabatan(gaji)\n",
        "    \n"
      ],
      "metadata": {
        "id": "htufLfnzd8gc"
      },
      "execution_count": 38,
      "outputs": []
    },
    {
      "cell_type": "markdown",
      "source": [
        "##### Menampilkan dataframe setelah menambahkan kolom jabatan"
      ],
      "metadata": {
        "id": "0Wew6vkZf2Mk"
      }
    },
    {
      "cell_type": "code",
      "source": [
        "print(\"Output setelah ditambah kolom jabatan\")\n",
        "print(data)"
      ],
      "metadata": {
        "colab": {
          "base_uri": "https://localhost:8080/"
        },
        "id": "AK7Py_gkd_Bo",
        "outputId": "875dfc98-15a1-4e74-97b7-3c34e3238b0c"
      },
      "execution_count": 39,
      "outputs": [
        {
          "output_type": "stream",
          "name": "stdout",
          "text": [
            "Output setelah ditambah kolom jabatan\n",
            "   No. Jenis Kelamin  Umur Karyawan      Gaji       Transportasi  \\\n",
            "0    1     Laki-Laki             20   8000000  Kendaraan pribadi   \n",
            "1    2     Laki-Laki             35  14000000     Kendaraan umum   \n",
            "2    3     Perempuan             26  10000000     Kendaraan umum   \n",
            "3    4     Perempuan             27  12000000  Kendaraan pribadi   \n",
            "4    5     Laki-Laki             21   9000000  Kendaraan pribadi   \n",
            "5    6     Laki-Laki             22  11000000  Kendaraan pribadi   \n",
            "6    7     Perempuan             32  15000000     Kendaraan umum   \n",
            "7    8     Perempuan             26   8000000     Kendaraan umum   \n",
            "8    9     Laki-Laki             25   9000000     Kendaraan umum   \n",
            "9   10     Perempuan             20  10000000  Kendaraan pribadi   \n",
            "\n",
            "           Jabatan  \n",
            "0          Officer  \n",
            "1  Asisten Manajer  \n",
            "2       Supervisor  \n",
            "3  Asisten Manajer  \n",
            "4          Officer  \n",
            "5       Supervisor  \n",
            "6          Manager  \n",
            "7          Officer  \n",
            "8          Officer  \n",
            "9       Supervisor  \n"
          ]
        }
      ]
    },
    {
      "cell_type": "markdown",
      "source": [
        "##### Mendapatkan data gaji terbesar dan terkecil"
      ],
      "metadata": {
        "id": "2uLFa4Q1gGEU"
      }
    },
    {
      "cell_type": "code",
      "source": [
        "gaji_terbesar = data['Gaji'].max()\n",
        "gaji_terkecil = data['Gaji'].min()"
      ],
      "metadata": {
        "id": "MEGTAr1TeBls"
      },
      "execution_count": 40,
      "outputs": []
    },
    {
      "cell_type": "markdown",
      "source": [
        "##### Menampilkan data gaji terbesar dan terkecil"
      ],
      "metadata": {
        "id": "pZfLzaPHgNYv"
      }
    },
    {
      "cell_type": "code",
      "source": [
        "print(\"Gaji Terbesar:\", gaji_terbesar)\n",
        "print(\"Gaji Terkecil:\", gaji_terkecil)"
      ],
      "metadata": {
        "colab": {
          "base_uri": "https://localhost:8080/"
        },
        "id": "vUR2MpdNgQVL",
        "outputId": "2ffca2c4-1743-4411-ecda-7f6d8098fcdf"
      },
      "execution_count": 41,
      "outputs": [
        {
          "output_type": "stream",
          "name": "stdout",
          "text": [
            "Gaji Terbesar: 15000000\n",
            "Gaji Terkecil: 8000000\n"
          ]
        }
      ]
    }
  ]
}